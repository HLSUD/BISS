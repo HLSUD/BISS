{
 "cells": [
  {
   "cell_type": "code",
   "execution_count": 1,
   "metadata": {},
   "outputs": [],
   "source": [
    "from __future__ import print_function, division\n",
    "import os\n",
    "import torch\n",
    "import pandas as pd\n",
    "import numpy as np\n",
    "from skimage import io\n",
    "from PIL import Image\n",
    "from torch.utils.data import Dataset\n",
    "from pathlib import Path\n",
    "from scipy.interpolate import interp1d\n",
    "from typing import Callable, Optional, Tuple, Union\n",
    "import matplotlib.pyplot as plt\n",
    "import time\n",
    "# Ignore warnings\n",
    "import warnings\n",
    "warnings.filterwarnings(\"ignore\")"
   ]
  },
  {
   "cell_type": "code",
   "execution_count": 99,
   "metadata": {},
   "outputs": [],
   "source": [
    "abnormal_data_idx = [2,10,13,24,25,34,39,52,54,60,63,67,68,70,71,75,76,80,86,87,28,79,84]"
   ]
  },
  {
   "cell_type": "code",
   "execution_count": 76,
   "metadata": {},
   "outputs": [],
   "source": [
    "abnormal_list = [\n",
    "'/Users/honghaoliu/Dropbox/preprocessed/subj2_single_m.npy',\n",
    "'/Users/honghaoliu/Dropbox/preprocessed/subj10_single_m.npy',\n",
    "'/Users/honghaoliu/Dropbox/preprocessed/subj13_single_m.npy',\n",
    "'/Users/honghaoliu/Dropbox/preprocessed/subj24_single_m.npy',\n",
    "'/Users/honghaoliu/Dropbox/preprocessed/subj25_single_m.npy',\n",
    "'/Users/honghaoliu/Dropbox/preprocessed/subj34_single_m.npy',\n",
    "'/Users/honghaoliu/Dropbox/preprocessed/subj39_single_m.npy',\n",
    "'/Users/honghaoliu/Dropbox/preprocessed/subj52_single_m.npy',\n",
    "'/Users/honghaoliu/Dropbox/preprocessed/subj54_single_m.npy',\n",
    "'/Users/honghaoliu/Dropbox/preprocessed/subj60_single_m.npy',\n",
    "'/Users/honghaoliu/Dropbox/preprocessed/subj63_single_m.npy',\n",
    "'/Users/honghaoliu/Dropbox/preprocessed/subj67_single_m.npy',\n",
    "'/Users/honghaoliu/Dropbox/preprocessed/subj68_single_m.npy',\n",
    "'/Users/honghaoliu/Dropbox/preprocessed/subj70_single_m.npy',\n",
    "'/Users/honghaoliu/Dropbox/preprocessed/subj71_single_m.npy',\n",
    "'/Users/honghaoliu/Dropbox/preprocessed/subj75_single_m.npy',\n",
    "'/Users/honghaoliu/Dropbox/preprocessed/subj76_single_m.npy',\n",
    "'/Users/honghaoliu/Dropbox/preprocessed/subj80_single_m.npy',\n",
    "'/Users/honghaoliu/Dropbox/preprocessed/subj86_single_m.npy',\n",
    "'/Users/honghaoliu/Dropbox/preprocessed/subj87_single_m.npy',\n",
    "'/Users/honghaoliu/Dropbox/preprocessed/subj28_single_m.npy',\n",
    "'/Users/honghaoliu/Dropbox/preprocessed/subj79_single_m.npy',\n",
    "'/Users/honghaoliu/Dropbox/preprocessed/subj84_single_m.npy',\n",
    "'/Users/honghaoliu/Dropbox/preprocessed/subj2_single_f.npy',\n",
    "'/Users/honghaoliu/Dropbox/preprocessed/subj10_single_f.npy',\n",
    "'/Users/honghaoliu/Dropbox/preprocessed/subj13_single_f.npy',\n",
    "'/Users/honghaoliu/Dropbox/preprocessed/subj24_single_f.npy',\n",
    "'/Users/honghaoliu/Dropbox/preprocessed/subj25_single_f.npy',\n",
    "'/Users/honghaoliu/Dropbox/preprocessed/subj34_single_f.npy',\n",
    "'/Users/honghaoliu/Dropbox/preprocessed/subj39_single_f.npy',\n",
    "'/Users/honghaoliu/Dropbox/preprocessed/subj52_single_f.npy',\n",
    "'/Users/honghaoliu/Dropbox/preprocessed/subj54_single_f.npy',\n",
    "'/Users/honghaoliu/Dropbox/preprocessed/subj60_single_f.npy',\n",
    "'/Users/honghaoliu/Dropbox/preprocessed/subj63_single_f.npy',\n",
    "'/Users/honghaoliu/Dropbox/preprocessed/subj67_single_f.npy',\n",
    "'/Users/honghaoliu/Dropbox/preprocessed/subj68_single_f.npy',\n",
    "'/Users/honghaoliu/Dropbox/preprocessed/subj70_single_f.npy',\n",
    "'/Users/honghaoliu/Dropbox/preprocessed/subj71_single_f.npy',\n",
    "'/Users/honghaoliu/Dropbox/preprocessed/subj75_single_f.npy',\n",
    "'/Users/honghaoliu/Dropbox/preprocessed/subj76_single_f.npy',\n",
    "'/Users/honghaoliu/Dropbox/preprocessed/subj80_single_f.npy',\n",
    "'/Users/honghaoliu/Dropbox/preprocessed/subj86_single_f.npy',\n",
    "'/Users/honghaoliu/Dropbox/preprocessed/subj87_single_f.npy',\n",
    "'/Users/honghaoliu/Dropbox/preprocessed/subj28_single_f.npy',\n",
    "'/Users/honghaoliu/Dropbox/preprocessed/subj79_single_f.npy',\n",
    "'/Users/honghaoliu/Dropbox/preprocessed/subj84_single_f.npy',\n",
    "\n",
    "'/Users/honghaoliu/Dropbox/preprocessed/subj2_mixed_m.npy',\n",
    "'/Users/honghaoliu/Dropbox/preprocessed/subj10_mixed_m.npy',\n",
    "'/Users/honghaoliu/Dropbox/preprocessed/subj13_mixed_m.npy',\n",
    "'/Users/honghaoliu/Dropbox/preprocessed/subj24_mixed_m.npy',\n",
    "'/Users/honghaoliu/Dropbox/preprocessed/subj25_mixed_m.npy',\n",
    "'/Users/honghaoliu/Dropbox/preprocessed/subj34_mixed_m.npy',\n",
    "'/Users/honghaoliu/Dropbox/preprocessed/subj39_mixed_m.npy',\n",
    "'/Users/honghaoliu/Dropbox/preprocessed/subj52_mixed_m.npy',\n",
    "'/Users/honghaoliu/Dropbox/preprocessed/subj54_mixed_m.npy',\n",
    "'/Users/honghaoliu/Dropbox/preprocessed/subj60_mixed_m.npy',\n",
    "'/Users/honghaoliu/Dropbox/preprocessed/subj63_mixed_m.npy',\n",
    "'/Users/honghaoliu/Dropbox/preprocessed/subj67_mixed_m.npy',\n",
    "'/Users/honghaoliu/Dropbox/preprocessed/subj68_mixed_m.npy',\n",
    "'/Users/honghaoliu/Dropbox/preprocessed/subj70_mixed_m.npy',\n",
    "'/Users/honghaoliu/Dropbox/preprocessed/subj71_mixed_m.npy',\n",
    "'/Users/honghaoliu/Dropbox/preprocessed/subj75_mixed_m.npy',\n",
    "'/Users/honghaoliu/Dropbox/preprocessed/subj76_mixed_m.npy',\n",
    "'/Users/honghaoliu/Dropbox/preprocessed/subj80_mixed_m.npy',\n",
    "'/Users/honghaoliu/Dropbox/preprocessed/subj86_mixed_m.npy',\n",
    "'/Users/honghaoliu/Dropbox/preprocessed/subj87_mixed_m.npy',\n",
    "'/Users/honghaoliu/Dropbox/preprocessed/subj28_mixed_m.npy',\n",
    "'/Users/honghaoliu/Dropbox/preprocessed/subj79_mixed_m.npy',\n",
    "'/Users/honghaoliu/Dropbox/preprocessed/subj84_mixed_m.npy',\n",
    "'/Users/honghaoliu/Dropbox/preprocessed/subj2_mixed_f.npy',\n",
    "'/Users/honghaoliu/Dropbox/preprocessed/subj10_mixed_f.npy',\n",
    "'/Users/honghaoliu/Dropbox/preprocessed/subj13_mixed_f.npy',\n",
    "'/Users/honghaoliu/Dropbox/preprocessed/subj24_mixed_f.npy',\n",
    "'/Users/honghaoliu/Dropbox/preprocessed/subj25_mixed_f.npy',\n",
    "'/Users/honghaoliu/Dropbox/preprocessed/subj34_mixed_f.npy',\n",
    "'/Users/honghaoliu/Dropbox/preprocessed/subj39_mixed_f.npy',\n",
    "'/Users/honghaoliu/Dropbox/preprocessed/subj52_mixed_f.npy',\n",
    "'/Users/honghaoliu/Dropbox/preprocessed/subj54_mixed_f.npy',\n",
    "'/Users/honghaoliu/Dropbox/preprocessed/subj60_mixed_f.npy',\n",
    "'/Users/honghaoliu/Dropbox/preprocessed/subj63_mixed_f.npy',\n",
    "'/Users/honghaoliu/Dropbox/preprocessed/subj67_mixed_f.npy',\n",
    "'/Users/honghaoliu/Dropbox/preprocessed/subj68_mixed_f.npy',\n",
    "'/Users/honghaoliu/Dropbox/preprocessed/subj70_mixed_f.npy',\n",
    "'/Users/honghaoliu/Dropbox/preprocessed/subj71_mixed_f.npy',\n",
    "'/Users/honghaoliu/Dropbox/preprocessed/subj75_mixed_f.npy',\n",
    "'/Users/honghaoliu/Dropbox/preprocessed/subj76_mixed_f.npy',\n",
    "'/Users/honghaoliu/Dropbox/preprocessed/subj80_mixed_f.npy',\n",
    "'/Users/honghaoliu/Dropbox/preprocessed/subj86_mixed_f.npy',\n",
    "'/Users/honghaoliu/Dropbox/preprocessed/subj87_mixed_f.npy',\n",
    "'/Users/honghaoliu/Dropbox/preprocessed/subj28_mixed_f.npy',\n",
    "'/Users/honghaoliu/Dropbox/preprocessed/subj79_mixed_f.npy',\n",
    "'/Users/honghaoliu/Dropbox/preprocessed/subj84_mixed_f.npy'\n",
    "]"
   ]
  },
  {
   "cell_type": "code",
   "execution_count": null,
   "metadata": {},
   "outputs": [],
   "source": [
    "path + 'sub' + str(i) +'_mixed_f.npy'"
   ]
  },
  {
   "cell_type": "code",
   "execution_count": null,
   "metadata": {},
   "outputs": [],
   "source": [
    "def remove_bad_data_paths(indices, root_path, input_paths):\n",
    "    for i in indices:\n",
    "        root_path + 'sub' + str(i) +'_mixed_f.npy'"
   ]
  },
  {
   "cell_type": "code",
   "execution_count": 77,
   "metadata": {},
   "outputs": [],
   "source": [
    "class eeg_pretrain_dataset(Dataset):\n",
    "    def __init__(self, path='./data/eeg_data/'):\n",
    "        super(eeg_pretrain_dataset, self).__init__()\n",
    "        data = []\n",
    "        images = []\n",
    "        ## get input path/ data arrays\n",
    "        self.input_paths = [str(f) for f in sorted(Path(path).rglob('*')) if is_npy_ext(f) and os.path.isfile(f)]\n",
    "        \n",
    "        ## remove bad data path from input_path\n",
    "        \n",
    "        for i in abnormal_list:\n",
    "            \n",
    "            if item in self.input_paths:\n",
    "                self.input_paths.remove(item)\n",
    "        print('/Users/honghaoliu/Dropbox/preprocessed/subj68_mixed_f.npy' in self.input_paths)\n",
    "#         self.input_paths.remove('/Users/honghaoliu/Dropbox/preprocessed/subj68_mixed_f.npy')\n",
    "        #         print(self.input_paths)\n",
    "        ## 68 mixed female skip\n",
    "        ## '/Users/honghaoliu/Dropbox/preprocessed/subj68_single_m.npy'\n",
    "        ### !!!!!!!!!\n",
    "#         print(self.input_paths)\n",
    "        print(len(self.input_paths))\n",
    "        assert len(self.input_paths) != 0, 'No data found'\n",
    "        ### length and channels\n",
    "        self.data_len  = 512\n",
    "        self.data_chan = 128\n",
    "\n",
    "        self.win_size = 512\n",
    "        self.hop_size = 512\n",
    "        self.num_pitchs = (60000 - self.win_size) // self.hop_size + 1\n",
    "        print(self.num_pitchs)\n",
    "    \n",
    "    def get_paths(self):\n",
    "        return self.input_paths\n",
    "\n",
    "    def __len__(self):\n",
    "        return len(self.input_paths)*self.num_pitchs\n",
    "    \n",
    "    def __getitem__(self, index):\n",
    "        eeg_idx = index // self.num_pitchs\n",
    "        inner_idx = index - eeg_idx * self.num_pitchs\n",
    "        data_path = self.input_paths[eeg_idx]\n",
    "\n",
    "        # print(index,eeg_idx)\n",
    "#         data_path = '/Users/honghaoliu/Dropbox/preprocessed/subj52_mixed_m.npy'\n",
    "        eeg_data = np.load(data_path)\n",
    "        # print(inner_idx)\n",
    "        # print(eeg_data.shape)\n",
    "        start_loc = inner_idx * self.hop_size\n",
    "        data = eeg_data[:,start_loc:(start_loc+self.win_size)]\n",
    "        # print(data.shape)\n",
    "        if data.shape[-1] > self.data_len: \n",
    "            idx = np.random.randint(0, int(data.shape[-1] - self.data_len)+1)\n",
    "\n",
    "            data = data[:, idx: idx+self.data_len]\n",
    "        else: # interp1d\n",
    "            x = np.linspace(0, 1, data.shape[-1])\n",
    "            x2 = np.linspace(0, 1, self.data_len)\n",
    "            f = interp1d(x, data)\n",
    "            data = f(x2)\n",
    "        ret = np.zeros((self.data_chan, self.data_len))\n",
    "        if (self.data_chan > data.shape[-2]): # replicate\n",
    "            for i in range((self.data_chan//data.shape[-2])):\n",
    "\n",
    "                ret[i * data.shape[-2]: (i+1) * data.shape[-2], :] = data\n",
    "            if self.data_chan % data.shape[-2] != 0:\n",
    "\n",
    "                ret[ -(self.data_chan%data.shape[-2]):, :] = data[: (self.data_chan%data.shape[-2]), :]\n",
    "        elif(self.data_chan < data.shape[-2]):\n",
    "            idx2 = np.random.randint(0, int(data.shape[-2] - self.data_chan)+1)\n",
    "            ret = data[idx2: idx2+self.data_chan, :]\n",
    "        # print(ret.shape)\n",
    "        elif(self.data_chan == data.shape[-2]):\n",
    "            ret = data\n",
    "        ret = ret/10 # reduce an order\n",
    "        # torch.tensor()\n",
    "        ret = torch.from_numpy(ret).float()\n",
    "        return {'eeg': ret } #,"
   ]
  },
  {
   "cell_type": "code",
   "execution_count": 78,
   "metadata": {},
   "outputs": [],
   "source": [
    "def file_ext(name: Union[str, Path]) -> str:\n",
    "    return str(name).split('.')[-1]\n",
    "\n",
    "def is_npy_ext(fname: Union[str, Path]) -> bool:\n",
    "    ext = file_ext(fname).lower()\n",
    "    return f'{ext}' == 'npy'# type: ignore"
   ]
  },
  {
   "cell_type": "code",
   "execution_count": 79,
   "metadata": {},
   "outputs": [
    {
     "name": "stdout",
     "output_type": "stream",
     "text": [
      "False\n",
      "278\n",
      "117\n"
     ]
    }
   ],
   "source": [
    "data_path = \"/Users/honghaoliu/Dropbox/preprocessed\"\n",
    "# data_path = \"/Users/honghaoliu/Documents/GitHub/BISR/code/BISS/data/eeg_data\"\n",
    "dataset_pretrain = eeg_pretrain_dataset(path=data_path)"
   ]
  },
  {
   "cell_type": "markdown",
   "metadata": {},
   "source": [
    "## great data\n",
    "'/Users/honghaoliu/Dropbox/preprocessed/subj26_single_m.npy'\n",
    "'/Users/honghaoliu/Dropbox/preprocessed/subj29_single_m.npy'\n",
    "'/Users/honghaoliu/Dropbox/preprocessed/subj31_single_m.npy'\n",
    "'/Users/honghaoliu/Dropbox/preprocessed/subj36_single_m.npy'\n",
    "'/Users/honghaoliu/Dropbox/preprocessed/subj42_single_m.npy'\n",
    "'/Users/honghaoliu/Dropbox/preprocessed/subj91_single_m.npy'\n",
    "'/Users/honghaoliu/Dropbox/preprocessed/subj93_single_m.npy'\n",
    "'/Users/honghaoliu/Dropbox/preprocessed/subj100_single_m.npy'\n",
    "## less\n",
    "'/Users/honghaoliu/Dropbox/preprocessed/subj35_single_m.npy'\n",
    "'/Users/honghaoliu/Dropbox/preprocessed/subj37_single_m.npy'\n",
    " '/Users/honghaoliu/Dropbox/preprocessed/subj38_single_m.npy'\n",
    " '/Users/honghaoliu/Dropbox/preprocessed/subj88_single_m.npy'"
   ]
  },
  {
   "cell_type": "markdown",
   "metadata": {},
   "source": [
    "## normal data 1st channel\n",
    "/Users/honghaoliu/Dropbox/preprocessed/subj1_single_m.npy'\n",
    "/Users/honghaoliu/Dropbox/preprocessed/subj4_single_m.npy'"
   ]
  },
  {
   "cell_type": "markdown",
   "metadata": {},
   "source": [
    "## abnormal data\n",
    "/Users/honghaoliu/Dropbox/preprocessed/subj2_single_m.npy'\n",
    "'/Users/honghaoliu/Dropbox/preprocessed/subj10_single_m.npy'\n",
    "'/Users/honghaoliu/Dropbox/preprocessed/subj13_single_m.npy'\n",
    "'/Users/honghaoliu/Dropbox/preprocessed/subj24_single_m.npy'\n",
    "'/Users/honghaoliu/Dropbox/preprocessed/subj25_single_m.npy'\n",
    "'/Users/honghaoliu/Dropbox/preprocessed/subj34_single_m.npy'\n",
    "'/Users/honghaoliu/Dropbox/preprocessed/subj39_single_m.npy'\n",
    "'/Users/honghaoliu/Dropbox/preprocessed/subj52_single_m.npy'\n",
    "'/Users/honghaoliu/Dropbox/preprocessed/subj54_single_m.npy'\n",
    "'/Users/honghaoliu/Dropbox/preprocessed/subj60_single_m.npy'\n",
    "'/Users/honghaoliu/Dropbox/preprocessed/subj63_single_m.npy'\n",
    "'/Users/honghaoliu/Dropbox/preprocessed/subj67_single_m.npy'\n",
    "'/Users/honghaoliu/Dropbox/preprocessed/subj68_single_m.npy'\n",
    "'/Users/honghaoliu/Dropbox/preprocessed/subj70_single_m.npy'\n",
    "'/Users/honghaoliu/Dropbox/preprocessed/subj71_single_m.npy'\n",
    "'/Users/honghaoliu/Dropbox/preprocessed/subj76_single_m.npy'\n",
    "'/Users/honghaoliu/Dropbox/preprocessed/subj80_single_m.npy'\n",
    "'/Users/honghaoliu/Dropbox/preprocessed/subj86_single_m.npy'\n",
    "'/Users/honghaoliu/Dropbox/preprocessed/subj87_single_m.npy'\n",
    "## several channel\n",
    "'/Users/honghaoliu/Dropbox/preprocessed/subj28_single_m.npy'\n",
    "\n",
    "## too noisy\n",
    "'/Users/honghaoliu/Dropbox/preprocessed/subj79_single_m.npy'\n",
    "'/Users/honghaoliu/Dropbox/preprocessed/subj84_single_m.npy'"
   ]
  },
  {
   "cell_type": "code",
   "execution_count": 27,
   "metadata": {},
   "outputs": [],
   "source": [
    "sample = dataset_pretrain[0]['eeg']"
   ]
  },
  {
   "cell_type": "code",
   "execution_count": 7,
   "metadata": {},
   "outputs": [],
   "source": [
    "x_axis = np.arange(0, sample.shape[-1])"
   ]
  },
  {
   "cell_type": "code",
   "execution_count": 31,
   "metadata": {},
   "outputs": [
    {
     "data": {
      "text/plain": [
       "torch.Size([128, 512])"
      ]
     },
     "execution_count": 31,
     "metadata": {},
     "output_type": "execute_result"
    }
   ],
   "source": [
    "sample = dataset_pretrain[100]['eeg']\n",
    "sample = sample.to('cpu').squeeze(0)\n",
    "sample.shape"
   ]
  },
  {
   "cell_type": "code",
   "execution_count": 80,
   "metadata": {},
   "outputs": [
    {
     "data": {
      "text/plain": [
       "32526"
      ]
     },
     "execution_count": 80,
     "metadata": {},
     "output_type": "execute_result"
    }
   ],
   "source": [
    "278*117"
   ]
  },
  {
   "cell_type": "code",
   "execution_count": 6,
   "metadata": {},
   "outputs": [
    {
     "data": {
      "image/png": "[encoded data removed]",
      "text/plain": [
       "<Figure size 432x288 with 1 Axes>"
      ]
     },
     "metadata": {
      "needs_background": "light"
     },
     "output_type": "display_data"
    }
   ],
   "source": [
    "sample = dataset_pretrain[32876]['eeg']\n",
    "x_axis = np.arange(0, sample.shape[-1])\n",
    "sample = sample.to('cpu').squeeze(0)[100].numpy()\n",
    "fig = plt.figure()\n",
    "plt.plot(x_axis, sample)\n",
    "plt.show()\n",
    "# time.sleep(2)"
   ]
  },
  {
   "cell_type": "code",
   "execution_count": 641,
   "metadata": {},
   "outputs": [
    {
     "data": {
      "text/plain": [
       "32877"
      ]
     },
     "execution_count": 641,
     "metadata": {},
     "output_type": "execute_result"
    }
   ],
   "source": [
    "281*117"
   ]
  },
  {
   "cell_type": "code",
   "execution_count": 8,
   "metadata": {},
   "outputs": [],
   "source": [
    "import random"
   ]
  },
  {
   "cell_type": "code",
   "execution_count": null,
   "metadata": {},
   "outputs": [],
   "source": [
    "for i in range(0,32526,100):\n",
    "#     try:\n",
    "    sample = dataset_pretrain[i]['eeg']\n",
    "    x_axis = np.arange(0, sample.shape[-1])\n",
    "    channel_id = random.randint(0, 64)\n",
    "    sample = sample.to('cpu').squeeze(0)[channel_id].numpy()\n",
    "    fig = plt.figure()\n",
    "    plt.plot(x_axis, sample)\n",
    "    plt.show()\n",
    "    print(i)"
   ]
  }
 ],
 "metadata": {
  "kernelspec": {
   "display_name": "Python 3",
   "language": "python",
   "name": "python3"
  },
  "language_info": {
   "codemirror_mode": {
    "name": "ipython",
    "version": 3
   },
   "file_extension": ".py",
   "mimetype": "text/x-python",
   "name": "python",
   "nbconvert_exporter": "python",
   "pygments_lexer": "ipython3",
   "version": "3.6.13"
  }
 },
 "nbformat": 4,
 "nbformat_minor": 4
}